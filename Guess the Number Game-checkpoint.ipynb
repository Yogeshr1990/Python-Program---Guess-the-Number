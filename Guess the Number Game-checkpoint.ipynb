{
 "cells": [
  {
   "cell_type": "markdown",
   "id": "57aeae3a",
   "metadata": {},
   "source": [
    "### Python Program - Guess the Number Game "
   ]
  },
  {
   "cell_type": "code",
   "execution_count": 1,
   "id": "7c2862a4",
   "metadata": {},
   "outputs": [
    {
     "name": "stdout",
     "output_type": "stream",
     "text": [
      "Welcome to our New Program! - Guess the Number\n",
      "Guess the Number: 5\n",
      "Guess little big number\n",
      "Guess the Number: 6\n",
      "Guess little big number\n",
      "Guess the Number: 7\n",
      "Guess little big number\n",
      "Guess the Number: 11\n",
      "Please select the number between 1-10\n",
      "Guess the Number: 8\n",
      "You  got it. Hurray!\n"
     ]
    }
   ],
   "source": [
    "print ('Welcome to our New Program! - Guess the Number')\n",
    "\n",
    "\n",
    "\n",
    "guess = 0\n",
    "\n",
    "\n",
    "import random\n",
    "\n",
    "random_number = random.randrange(1,10)\n",
    "\n",
    "while guess != random_number:\n",
    "    guess = int(input('Guess the Number: '))\n",
    "    if guess > 10:\n",
    "        print('Please select the number between 1-10')\n",
    "    else:\n",
    "        if guess > random_number:\n",
    "            print ('Guess little less')\n",
    "        elif guess < random_number:\n",
    "            print('Guess little big number')\n",
    "        else:\n",
    "            print('You  got it. Hurray!')"
   ]
  }
 ],
 "metadata": {
  "kernelspec": {
   "display_name": "Python 3 (ipykernel)",
   "language": "python",
   "name": "python3"
  },
  "language_info": {
   "codemirror_mode": {
    "name": "ipython",
    "version": 3
   },
   "file_extension": ".py",
   "mimetype": "text/x-python",
   "name": "python",
   "nbconvert_exporter": "python",
   "pygments_lexer": "ipython3",
   "version": "3.9.7"
  }
 },
 "nbformat": 4,
 "nbformat_minor": 5
}
